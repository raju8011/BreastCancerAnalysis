{
 "cells": [
  {
   "cell_type": "code",
   "execution_count": 5,
   "id": "7a9c9f2f-c37c-44e5-9815-47152f370566",
   "metadata": {},
   "outputs": [
    {
     "name": "stdout",
     "output_type": "stream",
     "text": [
      "Requirement already satisfied: pandas in c:\\users\\hp\\appdata\\local\\programs\\python\\python312\\lib\\site-packages (2.2.2)\n",
      "Requirement already satisfied: numpy>=1.26.0 in c:\\users\\hp\\appdata\\local\\programs\\python\\python312\\lib\\site-packages (from pandas) (1.26.4)\n",
      "Requirement already satisfied: python-dateutil>=2.8.2 in c:\\users\\hp\\appdata\\local\\programs\\python\\python312\\lib\\site-packages (from pandas) (2.9.0.post0)\n",
      "Requirement already satisfied: pytz>=2020.1 in c:\\users\\hp\\appdata\\local\\programs\\python\\python312\\lib\\site-packages (from pandas) (2024.1)\n",
      "Requirement already satisfied: tzdata>=2022.7 in c:\\users\\hp\\appdata\\local\\programs\\python\\python312\\lib\\site-packages (from pandas) (2024.1)\n",
      "Requirement already satisfied: six>=1.5 in c:\\users\\hp\\appdata\\local\\programs\\python\\python312\\lib\\site-packages (from python-dateutil>=2.8.2->pandas) (1.16.0)\n"
     ]
    }
   ],
   "source": [
    "!pip install pandas\n"
   ]
  },
  {
   "cell_type": "code",
   "execution_count": 6,
   "id": "d574e223-218e-4558-b9de-5f4d0a0116a3",
   "metadata": {},
   "outputs": [],
   "source": [
    "import pandas as pd"
   ]
  },
  {
   "cell_type": "code",
   "execution_count": 9,
   "id": "dda5ddd6-1e1e-45b8-9987-c2de89eddbcc",
   "metadata": {},
   "outputs": [
    {
     "name": "stdout",
     "output_type": "stream",
     "text": [
      "student records\n",
      "\n",
      "   student  rank  marks\n",
      "0    amit     1     80\n",
      "1    john     4     95\n",
      "2   shyam     3     86\n",
      "3   david     2     85\n",
      "4    sita     5     99\n"
     ]
    }
   ],
   "source": [
    ", ,,  , #dataset\n",
    "data = {\n",
    "    'student': [\"amit\", \"john\", \"shyam\", \"david\", \"sita\"],\n",
    "    'rank': [1, 4, 3, 2, 5],\n",
    "'marks': [80, 95, 86, 85, 99]\n",
    "}\n",
    "\n",
    "res = pd.DataFrame(data)\n",
    "\n",
    "print(\"student records\\n\\n\",res)"
   ]
  },
  {
   "cell_type": "code",
   "execution_count": 9,
   "id": "6f5cccb6-92a2-4d5f-bdbb-3de86d2f2006",
   "metadata": {},
   "outputs": [
    {
     "name": "stdout",
     "output_type": "stream",
     "text": [
      "student records\n",
      "\n",
      "   student  rank  marks\n",
      "0    amit     1     80\n",
      "1    john     4     95\n",
      "2   shyam     3     86\n",
      "3   david     2     85\n",
      "4    sita     5     99\n"
     ]
    }
   ],
   "source": [
    ", ,,  , #dataset\n",
    "data = {\n",
    "    'student': [\"amit\", \"john\", \"shyam\", \"david\", \"sita\"],\n",
    "    'rank': [1, 4, 3, 2, 5],\n",
    "'marks': [80, 95, 86, 85, 99]\n",
    "}\n",
    "\n",
    "res = pd.DataFrame(data)\n",
    "\n",
    "print(\"student records\\n\\n\",res)"
   ]
  },
  {
   "cell_type": "code",
   "execution_count": 2,
   "id": "e15f2e82-1355-4143-9430-9a69b85c8a54",
   "metadata": {},
   "outputs": [
    {
     "name": "stdout",
     "output_type": "stream",
     "text": [
      "Requirement already satisfied: numpy in c:\\users\\hp\\appdata\\local\\programs\\python\\python312\\lib\\site-packages (1.26.4)\n"
     ]
    }
   ],
   "source": [
    "!pip install numpy\n"
   ]
  },
  {
   "cell_type": "code",
   "execution_count": 3,
   "id": "216671b8-ee4a-49af-91d3-54af9b84985c",
   "metadata": {},
   "outputs": [],
   "source": [
    "import numpy as np"
   ]
  },
  {
   "cell_type": "code",
   "execution_count": 4,
   "id": "eb343545-7794-4f24-9158-55aafdbeef46",
   "metadata": {},
   "outputs": [
    {
     "name": "stdout",
     "output_type": "stream",
     "text": [
      "[1 2 3]\n"
     ]
    }
   ],
   "source": [
    "n = np.array((1,2,3))\n",
    "print(n)"
   ]
  },
  {
   "cell_type": "code",
   "execution_count": 5,
   "id": "dcba39f2-5711-4d92-b6d1-478a15f69b12",
   "metadata": {},
   "outputs": [
    {
     "name": "stdout",
     "output_type": "stream",
     "text": [
      "<class 'numpy.ndarray'>\n"
     ]
    }
   ],
   "source": [
    "print(type(n))"
   ]
  },
  {
   "cell_type": "code",
   "execution_count": 6,
   "id": "3614991c-db9e-4785-a807-45114413ea36",
   "metadata": {},
   "outputs": [
    {
     "name": "stdout",
     "output_type": "stream",
     "text": [
      "Collecting seaborn\n",
      "  Downloading seaborn-0.13.2-py3-none-any.whl.metadata (5.4 kB)\n",
      "Requirement already satisfied: numpy!=1.24.0,>=1.20 in c:\\users\\hp\\appdata\\local\\programs\\python\\python312\\lib\\site-packages (from seaborn) (1.26.4)\n",
      "Requirement already satisfied: pandas>=1.2 in c:\\users\\hp\\appdata\\local\\programs\\python\\python312\\lib\\site-packages (from seaborn) (2.2.2)\n",
      "Requirement already satisfied: matplotlib!=3.6.1,>=3.4 in c:\\users\\hp\\appdata\\local\\programs\\python\\python312\\lib\\site-packages (from seaborn) (3.9.0)\n",
      "Requirement already satisfied: contourpy>=1.0.1 in c:\\users\\hp\\appdata\\local\\programs\\python\\python312\\lib\\site-packages (from matplotlib!=3.6.1,>=3.4->seaborn) (1.2.1)\n",
      "Requirement already satisfied: cycler>=0.10 in c:\\users\\hp\\appdata\\local\\programs\\python\\python312\\lib\\site-packages (from matplotlib!=3.6.1,>=3.4->seaborn) (0.12.1)\n",
      "Requirement already satisfied: fonttools>=4.22.0 in c:\\users\\hp\\appdata\\local\\programs\\python\\python312\\lib\\site-packages (from matplotlib!=3.6.1,>=3.4->seaborn) (4.53.0)\n",
      "Requirement already satisfied: kiwisolver>=1.3.1 in c:\\users\\hp\\appdata\\local\\programs\\python\\python312\\lib\\site-packages (from matplotlib!=3.6.1,>=3.4->seaborn) (1.4.5)\n",
      "Requirement already satisfied: packaging>=20.0 in c:\\users\\hp\\appdata\\local\\programs\\python\\python312\\lib\\site-packages (from matplotlib!=3.6.1,>=3.4->seaborn) (24.0)\n",
      "Requirement already satisfied: pillow>=8 in c:\\users\\hp\\appdata\\local\\programs\\python\\python312\\lib\\site-packages (from matplotlib!=3.6.1,>=3.4->seaborn) (10.3.0)\n",
      "Requirement already satisfied: pyparsing>=2.3.1 in c:\\users\\hp\\appdata\\local\\programs\\python\\python312\\lib\\site-packages (from matplotlib!=3.6.1,>=3.4->seaborn) (3.1.2)\n",
      "Requirement already satisfied: python-dateutil>=2.7 in c:\\users\\hp\\appdata\\local\\programs\\python\\python312\\lib\\site-packages (from matplotlib!=3.6.1,>=3.4->seaborn) (2.9.0.post0)\n",
      "Requirement already satisfied: pytz>=2020.1 in c:\\users\\hp\\appdata\\local\\programs\\python\\python312\\lib\\site-packages (from pandas>=1.2->seaborn) (2024.1)\n",
      "Requirement already satisfied: tzdata>=2022.7 in c:\\users\\hp\\appdata\\local\\programs\\python\\python312\\lib\\site-packages (from pandas>=1.2->seaborn) (2024.1)\n",
      "Requirement already satisfied: six>=1.5 in c:\\users\\hp\\appdata\\local\\programs\\python\\python312\\lib\\site-packages (from python-dateutil>=2.7->matplotlib!=3.6.1,>=3.4->seaborn) (1.16.0)\n",
      "Downloading seaborn-0.13.2-py3-none-any.whl (294 kB)\n",
      "   ---------------------------------------- 0.0/294.9 kB ? eta -:--:--\n",
      "   ---------------------------------------- 0.0/294.9 kB ? eta -:--:--\n",
      "   - -------------------------------------- 10.2/294.9 kB ? eta -:--:--\n",
      "   - -------------------------------------- 10.2/294.9 kB ? eta -:--:--\n",
      "   ---- ---------------------------------- 30.7/294.9 kB 262.6 kB/s eta 0:00:02\n",
      "   -------- ------------------------------ 61.4/294.9 kB 328.2 kB/s eta 0:00:01\n",
      "   -------- ------------------------------ 61.4/294.9 kB 328.2 kB/s eta 0:00:01\n",
      "   ---------------------- --------------- 174.1/294.9 kB 615.9 kB/s eta 0:00:01\n",
      "   ------------------------- ------------ 194.6/294.9 kB 655.9 kB/s eta 0:00:01\n",
      "   ------------------------------- ------ 245.8/294.9 kB 656.0 kB/s eta 0:00:01\n",
      "   ------------------------------------ - 286.7/294.9 kB 681.0 kB/s eta 0:00:01\n",
      "   ------------------------------------ - 286.7/294.9 kB 681.0 kB/s eta 0:00:01\n",
      "   -------------------------------------- 294.9/294.9 kB 588.2 kB/s eta 0:00:00\n",
      "Installing collected packages: seaborn\n",
      "Successfully installed seaborn-0.13.2\n"
     ]
    }
   ],
   "source": [
    "!pip install seaborn"
   ]
  },
  {
   "cell_type": "code",
   "execution_count": 7,
   "id": "38dd910b-9c23-467d-8f19-05fa0f875c51",
   "metadata": {},
   "outputs": [],
   "source": [
    "import seaborn as sns"
   ]
  },
  {
   "cell_type": "code",
   "execution_count": 8,
   "id": "b14e58f5-6dee-4090-b1a3-1a69e13a5b72",
   "metadata": {},
   "outputs": [
    {
     "data": {
      "text/plain": [
       "<Axes: xlabel='sepal_length', ylabel='sepal_width'>"
      ]
     },
     "execution_count": 8,
     "metadata": {},
     "output_type": "execute_result"
    },
    {
     "data": {
      "image/png": "[encoded data removed]",
      "text/plain": [
       "<Figure size 640x480 with 1 Axes>"
      ]
     },
     "metadata": {},
     "output_type": "display_data"
    }
   ],
   "source": [
    "data = sns.load_dataset(\"iris\") \n",
    "\n",
    "sns.lineplot(x=\"sepal_length\", y=\"sepal_width\", data=data)"
   ]
  },
  {
   "cell_type": "code",
   "execution_count": 9,
   "id": "13f60214-0ebb-40e1-ac96-39fc2ab79482",
   "metadata": {},
   "outputs": [
    {
     "name": "stdout",
     "output_type": "stream",
     "text": [
      "Collecting scikit.learn\n",
      "  Downloading scikit_learn-1.5.0-cp312-cp312-win_amd64.whl.metadata (11 kB)\n",
      "Requirement already satisfied: numpy>=1.19.5 in c:\\users\\hp\\appdata\\local\\programs\\python\\python312\\lib\\site-packages (from scikit.learn) (1.26.4)\n",
      "Collecting scipy>=1.6.0 (from scikit.learn)\n",
      "  Downloading scipy-1.13.1-cp312-cp312-win_amd64.whl.metadata (60 kB)\n",
      "     ---------------------------------------- 0.0/60.6 kB ? eta -:--:--\n",
      "     ------ --------------------------------- 10.2/60.6 kB ? eta -:--:--\n",
      "     ------ --------------------------------- 10.2/60.6 kB ? eta -:--:--\n",
      "     ------------------------- ------------ 41.0/60.6 kB 393.8 kB/s eta 0:00:01\n",
      "     -------------------------------------- 60.6/60.6 kB 461.8 kB/s eta 0:00:00\n",
      "Collecting joblib>=1.2.0 (from scikit.learn)\n",
      "  Downloading joblib-1.4.2-py3-none-any.whl.metadata (5.4 kB)\n",
      "Collecting threadpoolctl>=3.1.0 (from scikit.learn)\n",
      "  Downloading threadpoolctl-3.5.0-py3-none-any.whl.metadata (13 kB)\n",
      "Downloading scikit_learn-1.5.0-cp312-cp312-win_amd64.whl (10.9 MB)\n",
      "   ---------------------------------------- 0.0/10.9 MB ? eta -:--:--\n",
      "   ---------------------------------------- 0.1/10.9 MB 3.2 MB/s eta 0:00:04\n",
      "   ---------------------------------------- 0.1/10.9 MB 1.4 MB/s eta 0:00:08\n",
      "    --------------------------------------- 0.2/10.9 MB 1.4 MB/s eta 0:00:08\n",
      "   - -------------------------------------- 0.3/10.9 MB 1.8 MB/s eta 0:00:06\n",
      "   - -------------------------------------- 0.5/10.9 MB 2.0 MB/s eta 0:00:06\n",
      "   -- ------------------------------------- 0.7/10.9 MB 2.4 MB/s eta 0:00:05\n",
      "   --- ------------------------------------ 1.1/10.9 MB 3.2 MB/s eta 0:00:04\n",
      "   ----- ---------------------------------- 1.5/10.9 MB 4.0 MB/s eta 0:00:03\n",
      "   ------ --------------------------------- 1.8/10.9 MB 4.4 MB/s eta 0:00:03\n",
      "   ------ --------------------------------- 1.8/10.9 MB 4.4 MB/s eta 0:00:03\n",
      "   -------- ------------------------------- 2.3/10.9 MB 4.5 MB/s eta 0:00:02\n",
      "   ---------- ----------------------------- 2.8/10.9 MB 5.0 MB/s eta 0:00:02\n",
      "   ----------- ---------------------------- 3.2/10.9 MB 5.2 MB/s eta 0:00:02\n",
      "   ------------- -------------------------- 3.6/10.9 MB 5.4 MB/s eta 0:00:02\n",
      "   -------------- ------------------------- 3.9/10.9 MB 5.5 MB/s eta 0:00:02\n",
      "   ---------------- ----------------------- 4.4/10.9 MB 5.7 MB/s eta 0:00:02\n",
      "   ---------------- ----------------------- 4.4/10.9 MB 5.8 MB/s eta 0:00:02\n",
      "   ---------------- ----------------------- 4.5/10.9 MB 5.2 MB/s eta 0:00:02\n",
      "   ------------------ --------------------- 5.0/10.9 MB 5.5 MB/s eta 0:00:02\n",
      "   ------------------- -------------------- 5.3/10.9 MB 5.5 MB/s eta 0:00:02\n",
      "   ------------------- -------------------- 5.4/10.9 MB 5.3 MB/s eta 0:00:02\n",
      "   -------------------- ------------------- 5.7/10.9 MB 5.3 MB/s eta 0:00:01\n",
      "   --------------------- ------------------ 5.8/10.9 MB 5.2 MB/s eta 0:00:01\n",
      "   ---------------------- ----------------- 6.2/10.9 MB 5.4 MB/s eta 0:00:01\n",
      "   ------------------------ --------------- 6.7/10.9 MB 5.5 MB/s eta 0:00:01\n",
      "   ------------------------ --------------- 6.7/10.9 MB 5.6 MB/s eta 0:00:01\n",
      "   ------------------------ --------------- 6.7/10.9 MB 5.6 MB/s eta 0:00:01\n",
      "   -------------------------- ------------- 7.3/10.9 MB 5.5 MB/s eta 0:00:01\n",
      "   ------------------------------ --------- 8.3/10.9 MB 6.0 MB/s eta 0:00:01\n",
      "   -------------------------------- ------- 9.0/10.9 MB 6.0 MB/s eta 0:00:01\n",
      "   --------------------------------- ------ 9.3/10.9 MB 6.0 MB/s eta 0:00:01\n",
      "   ----------------------------------- ---- 9.6/10.9 MB 6.1 MB/s eta 0:00:01\n",
      "   ------------------------------------ --- 9.9/10.9 MB 6.1 MB/s eta 0:00:01\n",
      "   ------------------------------------- -- 10.3/10.9 MB 6.2 MB/s eta 0:00:01\n",
      "   ---------------------------------------  10.9/10.9 MB 7.0 MB/s eta 0:00:01\n",
      "   ---------------------------------------  10.9/10.9 MB 7.0 MB/s eta 0:00:01\n",
      "   ---------------------------------------- 10.9/10.9 MB 6.7 MB/s eta 0:00:00\n",
      "Downloading joblib-1.4.2-py3-none-any.whl (301 kB)\n",
      "   ---------------------------------------- 0.0/301.8 kB ? eta -:--:--\n",
      "   --------------------------------------  297.0/301.8 kB 17.9 MB/s eta 0:00:01\n",
      "   ---------------------------------------- 301.8/301.8 kB 9.4 MB/s eta 0:00:00\n",
      "Downloading scipy-1.13.1-cp312-cp312-win_amd64.whl (45.9 MB)\n",
      "   ---------------------------------------- 0.0/45.9 MB ? eta -:--:--\n",
      "   ---------------------------------------- 0.5/45.9 MB 10.5 MB/s eta 0:00:05\n",
      "    --------------------------------------- 0.7/45.9 MB 8.3 MB/s eta 0:00:06\n",
      "    --------------------------------------- 1.1/45.9 MB 7.5 MB/s eta 0:00:06\n",
      "   - -------------------------------------- 1.4/45.9 MB 8.2 MB/s eta 0:00:06\n",
      "   - -------------------------------------- 1.8/45.9 MB 7.7 MB/s eta 0:00:06\n",
      "   - -------------------------------------- 2.2/45.9 MB 7.7 MB/s eta 0:00:06\n",
      "   -- ------------------------------------- 2.6/45.9 MB 7.9 MB/s eta 0:00:06\n",
      "   -- ------------------------------------- 3.0/45.9 MB 8.0 MB/s eta 0:00:06\n",
      "   -- ------------------------------------- 3.4/45.9 MB 8.1 MB/s eta 0:00:06\n",
      "   --- ------------------------------------ 3.8/45.9 MB 8.1 MB/s eta 0:00:06\n",
      "   --- ------------------------------------ 4.3/45.9 MB 8.3 MB/s eta 0:00:06\n",
      "   ---- ----------------------------------- 4.6/45.9 MB 8.2 MB/s eta 0:00:06\n",
      "   ---- ----------------------------------- 5.0/45.9 MB 8.3 MB/s eta 0:00:05\n",
      "   ---- ----------------------------------- 5.5/45.9 MB 8.4 MB/s eta 0:00:05\n",
      "   ---- ----------------------------------- 5.7/45.9 MB 8.1 MB/s eta 0:00:05\n",
      "   ----- ---------------------------------- 6.2/45.9 MB 8.3 MB/s eta 0:00:05\n",
      "   ----- ---------------------------------- 6.7/45.9 MB 8.2 MB/s eta 0:00:05\n",
      "   ------ --------------------------------- 7.1/45.9 MB 8.2 MB/s eta 0:00:05\n",
      "   ------ --------------------------------- 7.5/45.9 MB 8.3 MB/s eta 0:00:05\n",
      "   ------ --------------------------------- 7.9/45.9 MB 8.3 MB/s eta 0:00:05\n",
      "   ------- -------------------------------- 8.5/45.9 MB 8.5 MB/s eta 0:00:05\n",
      "   ------- -------------------------------- 8.8/45.9 MB 8.4 MB/s eta 0:00:05\n",
      "   -------- ------------------------------- 9.3/45.9 MB 8.5 MB/s eta 0:00:05\n",
      "   -------- ------------------------------- 9.6/45.9 MB 8.4 MB/s eta 0:00:05\n",
      "   -------- ------------------------------- 10.1/45.9 MB 8.4 MB/s eta 0:00:05\n",
      "   -------- ------------------------------- 10.1/45.9 MB 8.4 MB/s eta 0:00:05\n",
      "   --------- ------------------------------ 11.0/45.9 MB 8.4 MB/s eta 0:00:05\n",
      "   --------- ------------------------------ 11.3/45.9 MB 8.4 MB/s eta 0:00:05\n",
      "   ---------- ----------------------------- 11.6/45.9 MB 8.2 MB/s eta 0:00:05\n",
      "   ---------- ----------------------------- 11.8/45.9 MB 8.3 MB/s eta 0:00:05\n",
      "   ---------- ----------------------------- 12.1/45.9 MB 8.1 MB/s eta 0:00:05\n",
      "   ---------- ----------------------------- 12.4/45.9 MB 8.0 MB/s eta 0:00:05\n",
      "   ---------- ----------------------------- 12.6/45.9 MB 8.0 MB/s eta 0:00:05\n",
      "   ----------- ---------------------------- 12.8/45.9 MB 7.7 MB/s eta 0:00:05\n",
      "   ----------- ---------------------------- 13.0/45.9 MB 7.6 MB/s eta 0:00:05\n",
      "   ----------- ---------------------------- 13.4/45.9 MB 7.5 MB/s eta 0:00:05\n",
      "   ----------- ---------------------------- 13.6/45.9 MB 7.4 MB/s eta 0:00:05\n",
      "   ------------ --------------------------- 13.9/45.9 MB 7.4 MB/s eta 0:00:05\n",
      "   ------------ --------------------------- 13.9/45.9 MB 7.4 MB/s eta 0:00:05\n",
      "   ------------ --------------------------- 14.4/45.9 MB 7.2 MB/s eta 0:00:05\n",
      "   ------------ --------------------------- 14.6/45.9 MB 7.0 MB/s eta 0:00:05\n",
      "   ------------ --------------------------- 14.8/45.9 MB 6.9 MB/s eta 0:00:05\n",
      "   ------------- -------------------------- 15.1/45.9 MB 6.8 MB/s eta 0:00:05\n",
      "   ------------- -------------------------- 15.3/45.9 MB 6.8 MB/s eta 0:00:05\n",
      "   ------------- -------------------------- 15.5/45.9 MB 6.7 MB/s eta 0:00:05\n",
      "   ------------- -------------------------- 15.8/45.9 MB 6.6 MB/s eta 0:00:05\n",
      "   ------------- -------------------------- 16.0/45.9 MB 6.5 MB/s eta 0:00:05\n",
      "   -------------- ------------------------- 16.3/45.9 MB 6.5 MB/s eta 0:00:05\n",
      "   -------------- ------------------------- 16.5/45.9 MB 6.5 MB/s eta 0:00:05\n",
      "   -------------- ------------------------- 16.7/45.9 MB 6.4 MB/s eta 0:00:05\n",
      "   -------------- ------------------------- 16.9/45.9 MB 6.2 MB/s eta 0:00:05\n",
      "   -------------- ------------------------- 17.1/45.9 MB 6.2 MB/s eta 0:00:05\n",
      "   --------------- ------------------------ 17.4/45.9 MB 6.1 MB/s eta 0:00:05\n",
      "   --------------- ------------------------ 17.5/45.9 MB 6.0 MB/s eta 0:00:05\n",
      "   --------------- ------------------------ 17.8/45.9 MB 6.0 MB/s eta 0:00:05\n",
      "   --------------- ------------------------ 18.0/45.9 MB 5.8 MB/s eta 0:00:05\n",
      "   --------------- ------------------------ 18.2/45.9 MB 5.8 MB/s eta 0:00:05\n",
      "   --------------- ------------------------ 18.4/45.9 MB 5.7 MB/s eta 0:00:05\n",
      "   ---------------- ----------------------- 18.6/45.9 MB 5.7 MB/s eta 0:00:05\n",
      "   ---------------- ----------------------- 18.7/45.9 MB 5.6 MB/s eta 0:00:05\n",
      "   ---------------- ----------------------- 19.1/45.9 MB 5.6 MB/s eta 0:00:05\n",
      "   ---------------- ----------------------- 19.1/45.9 MB 5.6 MB/s eta 0:00:05\n",
      "   ---------------- ----------------------- 19.2/45.9 MB 5.2 MB/s eta 0:00:06\n",
      "   ---------------- ----------------------- 19.3/45.9 MB 5.2 MB/s eta 0:00:06\n",
      "   ----------------- ---------------------- 19.6/45.9 MB 5.1 MB/s eta 0:00:06\n",
      "   ----------------- ---------------------- 19.8/45.9 MB 5.0 MB/s eta 0:00:06\n",
      "   ----------------- ---------------------- 20.0/45.9 MB 4.9 MB/s eta 0:00:06\n",
      "   ----------------- ---------------------- 20.1/45.9 MB 4.9 MB/s eta 0:00:06\n",
      "   ----------------- ---------------------- 20.4/45.9 MB 4.9 MB/s eta 0:00:06\n",
      "   ----------------- ---------------------- 20.6/45.9 MB 4.8 MB/s eta 0:00:06\n",
      "   ------------------ --------------------- 21.0/45.9 MB 4.7 MB/s eta 0:00:06\n",
      "   ------------------ --------------------- 21.2/45.9 MB 4.6 MB/s eta 0:00:06\n",
      "   ------------------ --------------------- 21.4/45.9 MB 4.6 MB/s eta 0:00:06\n",
      "   ------------------ --------------------- 21.5/45.9 MB 4.5 MB/s eta 0:00:06\n",
      "   ------------------ --------------------- 21.6/45.9 MB 4.5 MB/s eta 0:00:06\n",
      "   ------------------- -------------------- 21.8/45.9 MB 4.5 MB/s eta 0:00:06\n",
      "   ------------------- -------------------- 21.9/45.9 MB 4.4 MB/s eta 0:00:06\n",
      "   ------------------- -------------------- 21.9/45.9 MB 4.3 MB/s eta 0:00:06\n",
      "   ------------------- -------------------- 22.0/45.9 MB 4.3 MB/s eta 0:00:06\n",
      "   ------------------- -------------------- 22.2/45.9 MB 4.2 MB/s eta 0:00:06\n",
      "   ------------------- -------------------- 22.3/45.9 MB 4.2 MB/s eta 0:00:06\n",
      "   ------------------- -------------------- 22.4/45.9 MB 4.1 MB/s eta 0:00:06\n",
      "   ------------------- -------------------- 22.4/45.9 MB 4.1 MB/s eta 0:00:06\n",
      "   ------------------- -------------------- 22.6/45.9 MB 4.0 MB/s eta 0:00:06\n",
      "   ------------------- -------------------- 22.6/45.9 MB 3.9 MB/s eta 0:00:06\n",
      "   ------------------- -------------------- 22.7/45.9 MB 3.9 MB/s eta 0:00:06\n",
      "   -------------------- ------------------- 23.0/45.9 MB 3.9 MB/s eta 0:00:06\n",
      "   -------------------- ------------------- 23.1/45.9 MB 3.9 MB/s eta 0:00:06\n",
      "   -------------------- ------------------- 23.3/45.9 MB 3.9 MB/s eta 0:00:06\n",
      "   -------------------- ------------------- 23.5/45.9 MB 3.8 MB/s eta 0:00:06\n",
      "   -------------------- ------------------- 23.7/45.9 MB 3.8 MB/s eta 0:00:06\n",
      "   -------------------- ------------------- 23.9/45.9 MB 3.8 MB/s eta 0:00:06\n",
      "   -------------------- ------------------- 24.0/45.9 MB 3.7 MB/s eta 0:00:06\n",
      "   -------------------- ------------------- 24.1/45.9 MB 3.6 MB/s eta 0:00:06\n",
      "   -------------------- ------------------- 24.1/45.9 MB 3.6 MB/s eta 0:00:06\n",
      "   --------------------- ------------------ 24.2/45.9 MB 3.6 MB/s eta 0:00:06\n",
      "   --------------------- ------------------ 24.4/45.9 MB 3.6 MB/s eta 0:00:07\n",
      "   --------------------- ------------------ 24.4/45.9 MB 3.5 MB/s eta 0:00:07\n",
      "   --------------------- ------------------ 24.5/45.9 MB 3.5 MB/s eta 0:00:07\n",
      "   --------------------- ------------------ 24.5/45.9 MB 3.4 MB/s eta 0:00:07\n",
      "   --------------------- ------------------ 24.5/45.9 MB 3.4 MB/s eta 0:00:07\n",
      "   --------------------- ------------------ 24.8/45.9 MB 3.4 MB/s eta 0:00:07\n",
      "   --------------------- ------------------ 24.8/45.9 MB 3.3 MB/s eta 0:00:07\n",
      "   --------------------- ------------------ 25.1/45.9 MB 3.3 MB/s eta 0:00:07\n",
      "   --------------------- ------------------ 25.2/45.9 MB 3.3 MB/s eta 0:00:07\n",
      "   ---------------------- ----------------- 25.3/45.9 MB 3.2 MB/s eta 0:00:07\n",
      "   ---------------------- ----------------- 25.4/45.9 MB 3.2 MB/s eta 0:00:07\n",
      "   ---------------------- ----------------- 25.7/45.9 MB 3.2 MB/s eta 0:00:07\n",
      "   ---------------------- ----------------- 25.9/45.9 MB 3.2 MB/s eta 0:00:07\n",
      "   ---------------------- ----------------- 26.1/45.9 MB 3.2 MB/s eta 0:00:07\n",
      "   ---------------------- ----------------- 26.3/45.9 MB 3.2 MB/s eta 0:00:07\n",
      "   ----------------------- ---------------- 26.6/45.9 MB 3.2 MB/s eta 0:00:07\n",
      "   ----------------------- ---------------- 26.8/45.9 MB 3.2 MB/s eta 0:00:06\n",
      "   ----------------------- ---------------- 27.0/45.9 MB 3.2 MB/s eta 0:00:06\n",
      "   ----------------------- ---------------- 27.3/45.9 MB 3.2 MB/s eta 0:00:06\n",
      "   ----------------------- ---------------- 27.4/45.9 MB 3.2 MB/s eta 0:00:06\n",
      "   ------------------------ --------------- 27.7/45.9 MB 3.2 MB/s eta 0:00:06\n",
      "   ------------------------ --------------- 27.9/45.9 MB 3.2 MB/s eta 0:00:06\n",
      "   ------------------------ --------------- 28.2/45.9 MB 3.2 MB/s eta 0:00:06\n",
      "   ------------------------ --------------- 28.4/45.9 MB 3.2 MB/s eta 0:00:06\n",
      "   ------------------------ --------------- 28.7/45.9 MB 3.2 MB/s eta 0:00:06\n",
      "   ------------------------- -------------- 28.9/45.9 MB 3.2 MB/s eta 0:00:06\n",
      "   ------------------------- -------------- 29.1/45.9 MB 3.2 MB/s eta 0:00:06\n",
      "   ------------------------- -------------- 29.3/45.9 MB 3.2 MB/s eta 0:00:06\n",
      "   ------------------------- -------------- 29.6/45.9 MB 3.3 MB/s eta 0:00:05\n",
      "   ------------------------- -------------- 29.8/45.9 MB 3.4 MB/s eta 0:00:05\n",
      "   -------------------------- ------------- 30.0/45.9 MB 3.4 MB/s eta 0:00:05\n",
      "   -------------------------- ------------- 30.5/45.9 MB 3.4 MB/s eta 0:00:05\n",
      "   -------------------------- ------------- 30.6/45.9 MB 3.4 MB/s eta 0:00:05\n",
      "   -------------------------- ------------- 30.9/45.9 MB 3.4 MB/s eta 0:00:05\n",
      "   --------------------------- ------------ 31.2/45.9 MB 3.4 MB/s eta 0:00:05\n",
      "   --------------------------- ------------ 31.4/45.9 MB 3.5 MB/s eta 0:00:05\n",
      "   --------------------------- ------------ 31.7/45.9 MB 3.5 MB/s eta 0:00:05\n",
      "   --------------------------- ------------ 31.9/45.9 MB 3.5 MB/s eta 0:00:04\n",
      "   --------------------------- ------------ 32.0/45.9 MB 3.5 MB/s eta 0:00:04\n",
      "   ---------------------------- ----------- 32.3/45.9 MB 3.7 MB/s eta 0:00:04\n",
      "   ---------------------------- ----------- 32.4/45.9 MB 3.7 MB/s eta 0:00:04\n",
      "   ---------------------------- ----------- 32.6/45.9 MB 3.7 MB/s eta 0:00:04\n",
      "   ---------------------------- ----------- 32.8/45.9 MB 3.7 MB/s eta 0:00:04\n",
      "   ---------------------------- ----------- 32.9/45.9 MB 3.7 MB/s eta 0:00:04\n",
      "   ---------------------------- ----------- 33.2/45.9 MB 3.7 MB/s eta 0:00:04\n",
      "   ----------------------------- ---------- 33.4/45.9 MB 3.7 MB/s eta 0:00:04\n",
      "   ----------------------------- ---------- 33.5/45.9 MB 3.8 MB/s eta 0:00:04\n",
      "   ----------------------------- ---------- 33.8/45.9 MB 3.8 MB/s eta 0:00:04\n",
      "   ----------------------------- ---------- 34.0/45.9 MB 3.8 MB/s eta 0:00:04\n",
      "   ----------------------------- ---------- 34.2/45.9 MB 3.8 MB/s eta 0:00:04\n",
      "   ----------------------------- ---------- 34.4/45.9 MB 4.0 MB/s eta 0:00:03\n",
      "   ----------------------------- ---------- 34.4/45.9 MB 4.0 MB/s eta 0:00:03\n",
      "   ----------------------------- ---------- 34.4/45.9 MB 4.0 MB/s eta 0:00:03\n",
      "   ----------------------------- ---------- 34.4/45.9 MB 3.8 MB/s eta 0:00:04\n",
      "   ------------------------------ --------- 34.6/45.9 MB 3.8 MB/s eta 0:00:03\n",
      "   ------------------------------ --------- 34.7/45.9 MB 3.9 MB/s eta 0:00:03\n",
      "   ------------------------------ --------- 34.9/45.9 MB 4.0 MB/s eta 0:00:03\n",
      "   ------------------------------ --------- 35.1/45.9 MB 4.1 MB/s eta 0:00:03\n",
      "   ------------------------------ --------- 35.2/45.9 MB 4.0 MB/s eta 0:00:03\n",
      "   ------------------------------ --------- 35.6/45.9 MB 4.3 MB/s eta 0:00:03\n",
      "   ------------------------------- -------- 35.7/45.9 MB 4.3 MB/s eta 0:00:03\n",
      "   ------------------------------- -------- 36.0/45.9 MB 4.3 MB/s eta 0:00:03\n",
      "   ------------------------------- -------- 36.3/45.9 MB 4.2 MB/s eta 0:00:03\n",
      "   ------------------------------- -------- 36.5/45.9 MB 4.2 MB/s eta 0:00:03\n",
      "   ------------------------------- -------- 36.6/45.9 MB 4.2 MB/s eta 0:00:03\n",
      "   -------------------------------- ------- 36.8/45.9 MB 4.2 MB/s eta 0:00:03\n",
      "   -------------------------------- ------- 36.9/45.9 MB 4.1 MB/s eta 0:00:03\n",
      "   -------------------------------- ------- 37.3/45.9 MB 4.2 MB/s eta 0:00:03\n",
      "   -------------------------------- ------- 37.4/45.9 MB 4.1 MB/s eta 0:00:03\n",
      "   -------------------------------- ------- 37.8/45.9 MB 4.2 MB/s eta 0:00:02\n",
      "   --------------------------------- ------ 37.9/45.9 MB 4.1 MB/s eta 0:00:02\n",
      "   --------------------------------- ------ 38.3/45.9 MB 4.2 MB/s eta 0:00:02\n",
      "   --------------------------------- ------ 38.6/45.9 MB 4.2 MB/s eta 0:00:02\n",
      "   --------------------------------- ------ 38.8/45.9 MB 4.2 MB/s eta 0:00:02\n",
      "   ---------------------------------- ----- 39.2/45.9 MB 4.2 MB/s eta 0:00:02\n",
      "   ---------------------------------- ----- 39.4/45.9 MB 4.2 MB/s eta 0:00:02\n",
      "   ---------------------------------- ----- 39.7/45.9 MB 4.2 MB/s eta 0:00:02\n",
      "   ---------------------------------- ----- 39.9/45.9 MB 4.3 MB/s eta 0:00:02\n",
      "   ---------------------------------- ----- 40.1/45.9 MB 4.2 MB/s eta 0:00:02\n",
      "   ----------------------------------- ---- 40.3/45.9 MB 4.3 MB/s eta 0:00:02\n",
      "   ----------------------------------- ---- 40.6/45.9 MB 4.2 MB/s eta 0:00:02\n",
      "   ----------------------------------- ---- 40.7/45.9 MB 4.2 MB/s eta 0:00:02\n",
      "   ----------------------------------- ---- 40.9/45.9 MB 4.2 MB/s eta 0:00:02\n",
      "   ----------------------------------- ---- 41.0/45.9 MB 4.1 MB/s eta 0:00:02\n",
      "   ----------------------------------- ---- 41.1/45.9 MB 4.0 MB/s eta 0:00:02\n",
      "   ----------------------------------- ---- 41.3/45.9 MB 4.0 MB/s eta 0:00:02\n",
      "   ------------------------------------ --- 41.4/45.9 MB 4.0 MB/s eta 0:00:02\n",
      "   ------------------------------------ --- 41.7/45.9 MB 4.0 MB/s eta 0:00:02\n",
      "   ------------------------------------ --- 41.9/45.9 MB 4.0 MB/s eta 0:00:01\n",
      "   ------------------------------------ --- 42.0/45.9 MB 3.9 MB/s eta 0:00:01\n",
      "   ------------------------------------ --- 42.4/45.9 MB 4.0 MB/s eta 0:00:01\n",
      "   ------------------------------------- -- 42.5/45.9 MB 4.0 MB/s eta 0:00:01\n",
      "   ------------------------------------- -- 42.7/45.9 MB 4.0 MB/s eta 0:00:01\n",
      "   ------------------------------------- -- 42.9/45.9 MB 4.1 MB/s eta 0:00:01\n",
      "   ------------------------------------- -- 42.9/45.9 MB 4.0 MB/s eta 0:00:01\n",
      "   ------------------------------------- -- 43.1/45.9 MB 4.1 MB/s eta 0:00:01\n",
      "   ------------------------------------- -- 43.3/45.9 MB 4.0 MB/s eta 0:00:01\n",
      "   ------------------------------------- -- 43.4/45.9 MB 4.0 MB/s eta 0:00:01\n",
      "   ------------------------------------- -- 43.4/45.9 MB 3.9 MB/s eta 0:00:01\n",
      "   -------------------------------------- - 43.7/45.9 MB 3.9 MB/s eta 0:00:01\n",
      "   -------------------------------------- - 43.8/45.9 MB 3.9 MB/s eta 0:00:01\n",
      "   -------------------------------------- - 43.9/45.9 MB 3.9 MB/s eta 0:00:01\n",
      "   -------------------------------------- - 44.1/45.9 MB 3.9 MB/s eta 0:00:01\n",
      "   -------------------------------------- - 44.2/45.9 MB 3.9 MB/s eta 0:00:01\n",
      "   -------------------------------------- - 44.3/45.9 MB 3.8 MB/s eta 0:00:01\n",
      "   -------------------------------------- - 44.4/45.9 MB 3.8 MB/s eta 0:00:01\n",
      "   -------------------------------------- - 44.8/45.9 MB 4.0 MB/s eta 0:00:01\n",
      "   ---------------------------------------  45.0/45.9 MB 4.1 MB/s eta 0:00:01\n",
      "   ---------------------------------------  45.1/45.9 MB 4.0 MB/s eta 0:00:01\n",
      "   ---------------------------------------  45.4/45.9 MB 4.0 MB/s eta 0:00:01\n",
      "   ---------------------------------------  45.5/45.9 MB 4.1 MB/s eta 0:00:01\n",
      "   ---------------------------------------  45.6/45.9 MB 4.0 MB/s eta 0:00:01\n",
      "   ---------------------------------------  45.7/45.9 MB 3.9 MB/s eta 0:00:01\n",
      "   ---------------------------------------  45.9/45.9 MB 3.9 MB/s eta 0:00:01\n",
      "   ---------------------------------------  45.9/45.9 MB 3.9 MB/s eta 0:00:01\n",
      "   ---------------------------------------  45.9/45.9 MB 3.9 MB/s eta 0:00:01\n",
      "   ---------------------------------------  45.9/45.9 MB 3.9 MB/s eta 0:00:01\n",
      "   ---------------------------------------  45.9/45.9 MB 3.9 MB/s eta 0:00:01\n",
      "   ---------------------------------------  45.9/45.9 MB 3.9 MB/s eta 0:00:01\n",
      "   ---------------------------------------- 45.9/45.9 MB 3.5 MB/s eta 0:00:00\n",
      "Downloading threadpoolctl-3.5.0-py3-none-any.whl (18 kB)\n",
      "Installing collected packages: threadpoolctl, scipy, joblib, scikit.learn\n",
      "Successfully installed joblib-1.4.2 scikit.learn-1.5.0 scipy-1.13.1 threadpoolctl-3.5.0\n"
     ]
    }
   ],
   "source": [
    "!pip install scikit.learn"
   ]
  },
  {
   "cell_type": "code",
   "execution_count": 10,
   "id": "85d67a2f-0032-4601-b1a7-9c28b8c3169d",
   "metadata": {},
   "outputs": [
    {
     "name": "stdout",
     "output_type": "stream",
     "text": [
      "Requirement already satisfied: scikit-learn in c:\\users\\hp\\appdata\\local\\programs\\python\\python312\\lib\\site-packages (1.5.0)\n",
      "Requirement already satisfied: numpy>=1.19.5 in c:\\users\\hp\\appdata\\local\\programs\\python\\python312\\lib\\site-packages (from scikit-learn) (1.26.4)\n",
      "Requirement already satisfied: scipy>=1.6.0 in c:\\users\\hp\\appdata\\local\\programs\\python\\python312\\lib\\site-packages (from scikit-learn) (1.13.1)\n",
      "Requirement already satisfied: joblib>=1.2.0 in c:\\users\\hp\\appdata\\local\\programs\\python\\python312\\lib\\site-packages (from scikit-learn) (1.4.2)\n",
      "Requirement already satisfied: threadpoolctl>=3.1.0 in c:\\users\\hp\\appdata\\local\\programs\\python\\python312\\lib\\site-packages (from scikit-learn) (3.5.0)\n"
     ]
    }
   ],
   "source": [
    "!pip install scikit-learn"
   ]
  },
  {
   "cell_type": "code",
   "execution_count": null,
   "id": "d9ae2c34-5f00-4b97-933a-e1ad1be4acd7",
   "metadata": {},
   "outputs": [],
   "source": [
    "from sklearn.datasets import load_breast_cancer\n",
    "cancer_dataset = load_breast_cancer()"
   ]
  }
 ],
 "metadata": {
  "kernelspec": {
   "display_name": "Python 3 (ipykernel)",
   "language": "python",
   "name": "python3"
  },
  "language_info": {
   "codemirror_mode": {
    "name": "ipython",
    "version": 3
   },
   "file_extension": ".py",
   "mimetype": "text/x-python",
   "name": "python",
   "nbconvert_exporter": "python",
   "pygments_lexer": "ipython3",
   "version": "3.12.4"
  }
 },
 "nbformat": 4,
 "nbformat_minor": 5
}
